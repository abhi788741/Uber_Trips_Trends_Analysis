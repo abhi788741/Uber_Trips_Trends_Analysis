{
 "cells": [
  {
   "cell_type": "code",
   "execution_count": null,
   "id": "2c6f3982-7474-4adc-8350-628d88d6ddc7",
   "metadata": {},
   "outputs": [],
   "source": [
    "import pandas as pd"
   ]
  },
  {
   "cell_type": "code",
   "execution_count": null,
   "id": "05aa541f-2ea9-4dda-8b46-d3f2f14f442e",
   "metadata": {},
   "outputs": [],
   "source": [
    "import matplotlib.pyplot as plt"
   ]
  },
  {
   "cell_type": "code",
   "execution_count": null,
   "id": "b4c77e57-9233-4585-b9af-c1a806db9761",
   "metadata": {},
   "outputs": [],
   "source": [
    "trips_df=pd.read_csv(\"C:\\\\Users\\\\kapur\\\\Downloads\\\\uber_trip_data.csv\")\n",
    "trips_df"
   ]
  },
  {
   "cell_type": "markdown",
   "id": "ff2a6d72-a1e7-439a-a238-191b8cd020da",
   "metadata": {},
   "source": [
    "# Condition On Payment types numeric to text types"
   ]
  },
  {
   "cell_type": "code",
   "execution_count": null,
   "id": "a1e102ea-36a3-4edc-8b58-9aaec4fdec42",
   "metadata": {},
   "outputs": [],
   "source": [
    "trips_df[\"payment_type\"]=trips_df[\"payment_type\"].astype(int)\n",
    "trips_df[\"payment_type\"]"
   ]
  },
  {
   "cell_type": "code",
   "execution_count": null,
   "id": "b22a56eb-6293-460a-a462-50dc271dca37",
   "metadata": {},
   "outputs": [],
   "source": [
    "payments={1:\"Google pay\",2:\"Uber Pay\",3:\"Cash\"}\n",
    "trips_df[\"payment_type\"]=trips_df[\"payment_type\"].map(payments)"
   ]
  },
  {
   "cell_type": "code",
   "execution_count": null,
   "id": "c0f53ebc-87f7-45f0-94a3-4bee91e4c139",
   "metadata": {},
   "outputs": [],
   "source": [
    "trips_df"
   ]
  },
  {
   "cell_type": "code",
   "execution_count": null,
   "id": "08c29e21-4046-406e-a064-fc27059e2985",
   "metadata": {},
   "outputs": [],
   "source": [
    "trips_df.head(10)"
   ]
  },
  {
   "cell_type": "code",
   "execution_count": null,
   "id": "e02efc87-f332-4e45-b076-357909ad07d3",
   "metadata": {},
   "outputs": [],
   "source": [
    "trips_df.columns"
   ]
  },
  {
   "cell_type": "markdown",
   "id": "c1c7e23b-bca8-43a5-aadd-5af1c2422477",
   "metadata": {},
   "source": [
    "# Datatype change of columns"
   ]
  },
  {
   "cell_type": "code",
   "execution_count": null,
   "id": "a5746a43-3143-47cc-92aa-f4e11cc86026",
   "metadata": {},
   "outputs": [],
   "source": [
    "trips_df[\"pickup_time\"]=pd.to_datetime(trips_df[\"pickup_time\"],dayfirst=True)"
   ]
  },
  {
   "cell_type": "code",
   "execution_count": null,
   "id": "23156fd1-42e8-4686-8500-5fae0b192b0a",
   "metadata": {},
   "outputs": [],
   "source": [
    "trips_df[\"drop_time\"]=pd.to_datetime(trips_df[\"drop_time\"],dayfirst=True)"
   ]
  },
  {
   "cell_type": "code",
   "execution_count": null,
   "id": "6585e058-d611-41a7-a69d-e51879c467be",
   "metadata": {},
   "outputs": [],
   "source": [
    "trips_df.info()"
   ]
  },
  {
   "cell_type": "markdown",
   "id": "2b9e5c56-37d1-493a-b7df-ec2650231afa",
   "metadata": {},
   "source": [
    "# adding new column"
   ]
  },
  {
   "cell_type": "code",
   "execution_count": 14,
   "id": "40158bf7-e5a4-4134-a901-cc77cfec315f",
   "metadata": {},
   "outputs": [
    {
     "data": {
      "text/plain": [
       "0      0 days 00:30:00\n",
       "1      0 days 00:49:00\n",
       "2      0 days 00:12:00\n",
       "3      0 days 00:58:00\n",
       "4      0 days 00:13:00\n",
       "             ...      \n",
       "9495   0 days 00:06:00\n",
       "9496   0 days 00:44:00\n",
       "9497   0 days 00:42:00\n",
       "9498   0 days 00:31:00\n",
       "9499   0 days 00:15:00\n",
       "Name: duration, Length: 9500, dtype: timedelta64[ns]"
      ]
     },
     "execution_count": 14,
     "metadata": {},
     "output_type": "execute_result"
    }
   ],
   "source": [
    "trips_df[\"duration\"]=trips_df['drop_time']-trips_df['pickup_time']\n",
    "trips_df[\"duration\"]"
   ]
  },
  {
   "cell_type": "code",
   "execution_count": 15,
   "id": "d3c9a1db-34bb-464e-b977-1001bc9acea2",
   "metadata": {},
   "outputs": [],
   "source": [
    "trips_df[\"duration\"]=trips_df[\"duration\"].dt.total_seconds()/60\n",
    "trips_df[\"duration\"]=trips_df[\"duration\"].round(2)"
   ]
  },
  {
   "cell_type": "code",
   "execution_count": 16,
   "id": "f3d74896-25d3-4762-9480-e1c0e9b13485",
   "metadata": {},
   "outputs": [],
   "source": [
    "trips_df[\"duration\"]=trips_df[\"duration\"].astype(int)"
   ]
  },
  {
   "cell_type": "code",
   "execution_count": 17,
   "id": "f2652666-9680-43f2-b2a1-df1dfdc72633",
   "metadata": {},
   "outputs": [
    {
     "data": {
      "text/html": [
       "<div>\n",
       "<style scoped>\n",
       "    .dataframe tbody tr th:only-of-type {\n",
       "        vertical-align: middle;\n",
       "    }\n",
       "\n",
       "    .dataframe tbody tr th {\n",
       "        vertical-align: top;\n",
       "    }\n",
       "\n",
       "    .dataframe thead th {\n",
       "        text-align: right;\n",
       "    }\n",
       "</style>\n",
       "<table border=\"1\" class=\"dataframe\">\n",
       "  <thead>\n",
       "    <tr style=\"text-align: right;\">\n",
       "      <th></th>\n",
       "      <th>trip_id</th>\n",
       "      <th>pickup_time</th>\n",
       "      <th>drop_time</th>\n",
       "      <th>passenger_count</th>\n",
       "      <th>trip_distance</th>\n",
       "      <th>PULocationID</th>\n",
       "      <th>DOLocationID</th>\n",
       "      <th>payment_type</th>\n",
       "      <th>fare_amount</th>\n",
       "      <th>surge_fare</th>\n",
       "      <th>duration</th>\n",
       "    </tr>\n",
       "  </thead>\n",
       "  <tbody>\n",
       "    <tr>\n",
       "      <th>0</th>\n",
       "      <td>1</td>\n",
       "      <td>2025-04-30 02:25:00</td>\n",
       "      <td>2025-04-30 02:55:00</td>\n",
       "      <td>4</td>\n",
       "      <td>6.24</td>\n",
       "      <td>18</td>\n",
       "      <td>173</td>\n",
       "      <td>Google pay</td>\n",
       "      <td>15.18</td>\n",
       "      <td>4.98</td>\n",
       "      <td>30</td>\n",
       "    </tr>\n",
       "    <tr>\n",
       "      <th>1</th>\n",
       "      <td>2</td>\n",
       "      <td>2025-04-06 01:36:00</td>\n",
       "      <td>2025-04-06 02:25:00</td>\n",
       "      <td>5</td>\n",
       "      <td>17.08</td>\n",
       "      <td>54</td>\n",
       "      <td>35</td>\n",
       "      <td>Uber Pay</td>\n",
       "      <td>37.22</td>\n",
       "      <td>0.02</td>\n",
       "      <td>49</td>\n",
       "    </tr>\n",
       "    <tr>\n",
       "      <th>2</th>\n",
       "      <td>3</td>\n",
       "      <td>2025-04-02 03:19:00</td>\n",
       "      <td>2025-04-02 03:31:00</td>\n",
       "      <td>3</td>\n",
       "      <td>9.78</td>\n",
       "      <td>97</td>\n",
       "      <td>77</td>\n",
       "      <td>Cash</td>\n",
       "      <td>22.38</td>\n",
       "      <td>3.51</td>\n",
       "      <td>12</td>\n",
       "    </tr>\n",
       "    <tr>\n",
       "      <th>3</th>\n",
       "      <td>4</td>\n",
       "      <td>2025-04-13 12:24:00</td>\n",
       "      <td>2025-04-13 13:22:00</td>\n",
       "      <td>5</td>\n",
       "      <td>2.99</td>\n",
       "      <td>234</td>\n",
       "      <td>185</td>\n",
       "      <td>Google pay</td>\n",
       "      <td>8.58</td>\n",
       "      <td>0.11</td>\n",
       "      <td>58</td>\n",
       "    </tr>\n",
       "    <tr>\n",
       "      <th>4</th>\n",
       "      <td>5</td>\n",
       "      <td>2025-04-12 03:29:00</td>\n",
       "      <td>2025-04-12 03:42:00</td>\n",
       "      <td>5</td>\n",
       "      <td>20.71</td>\n",
       "      <td>240</td>\n",
       "      <td>55</td>\n",
       "      <td>Uber Pay</td>\n",
       "      <td>44.59</td>\n",
       "      <td>6.83</td>\n",
       "      <td>13</td>\n",
       "    </tr>\n",
       "    <tr>\n",
       "      <th>...</th>\n",
       "      <td>...</td>\n",
       "      <td>...</td>\n",
       "      <td>...</td>\n",
       "      <td>...</td>\n",
       "      <td>...</td>\n",
       "      <td>...</td>\n",
       "      <td>...</td>\n",
       "      <td>...</td>\n",
       "      <td>...</td>\n",
       "      <td>...</td>\n",
       "      <td>...</td>\n",
       "    </tr>\n",
       "    <tr>\n",
       "      <th>9495</th>\n",
       "      <td>9496</td>\n",
       "      <td>2025-04-25 07:22:00</td>\n",
       "      <td>2025-04-25 07:28:00</td>\n",
       "      <td>6</td>\n",
       "      <td>22.11</td>\n",
       "      <td>8</td>\n",
       "      <td>12</td>\n",
       "      <td>Cash</td>\n",
       "      <td>47.44</td>\n",
       "      <td>3.41</td>\n",
       "      <td>6</td>\n",
       "    </tr>\n",
       "    <tr>\n",
       "      <th>9496</th>\n",
       "      <td>9497</td>\n",
       "      <td>2025-04-26 15:02:00</td>\n",
       "      <td>2025-04-26 15:46:00</td>\n",
       "      <td>5</td>\n",
       "      <td>10.66</td>\n",
       "      <td>183</td>\n",
       "      <td>187</td>\n",
       "      <td>Cash</td>\n",
       "      <td>24.17</td>\n",
       "      <td>5.01</td>\n",
       "      <td>44</td>\n",
       "    </tr>\n",
       "    <tr>\n",
       "      <th>9497</th>\n",
       "      <td>9498</td>\n",
       "      <td>2025-04-04 04:23:00</td>\n",
       "      <td>2025-04-04 05:05:00</td>\n",
       "      <td>1</td>\n",
       "      <td>20.10</td>\n",
       "      <td>77</td>\n",
       "      <td>169</td>\n",
       "      <td>Cash</td>\n",
       "      <td>43.35</td>\n",
       "      <td>0.50</td>\n",
       "      <td>42</td>\n",
       "    </tr>\n",
       "    <tr>\n",
       "      <th>9498</th>\n",
       "      <td>9499</td>\n",
       "      <td>2025-04-14 16:22:00</td>\n",
       "      <td>2025-04-14 16:53:00</td>\n",
       "      <td>1</td>\n",
       "      <td>27.03</td>\n",
       "      <td>67</td>\n",
       "      <td>106</td>\n",
       "      <td>Cash</td>\n",
       "      <td>57.44</td>\n",
       "      <td>5.65</td>\n",
       "      <td>31</td>\n",
       "    </tr>\n",
       "    <tr>\n",
       "      <th>9499</th>\n",
       "      <td>9500</td>\n",
       "      <td>2025-04-05 01:59:00</td>\n",
       "      <td>2025-04-05 02:14:00</td>\n",
       "      <td>4</td>\n",
       "      <td>21.93</td>\n",
       "      <td>148</td>\n",
       "      <td>176</td>\n",
       "      <td>Cash</td>\n",
       "      <td>47.07</td>\n",
       "      <td>6.27</td>\n",
       "      <td>15</td>\n",
       "    </tr>\n",
       "  </tbody>\n",
       "</table>\n",
       "<p>9500 rows × 11 columns</p>\n",
       "</div>"
      ],
      "text/plain": [
       "      trip_id         pickup_time           drop_time  passenger_count  \\\n",
       "0           1 2025-04-30 02:25:00 2025-04-30 02:55:00                4   \n",
       "1           2 2025-04-06 01:36:00 2025-04-06 02:25:00                5   \n",
       "2           3 2025-04-02 03:19:00 2025-04-02 03:31:00                3   \n",
       "3           4 2025-04-13 12:24:00 2025-04-13 13:22:00                5   \n",
       "4           5 2025-04-12 03:29:00 2025-04-12 03:42:00                5   \n",
       "...       ...                 ...                 ...              ...   \n",
       "9495     9496 2025-04-25 07:22:00 2025-04-25 07:28:00                6   \n",
       "9496     9497 2025-04-26 15:02:00 2025-04-26 15:46:00                5   \n",
       "9497     9498 2025-04-04 04:23:00 2025-04-04 05:05:00                1   \n",
       "9498     9499 2025-04-14 16:22:00 2025-04-14 16:53:00                1   \n",
       "9499     9500 2025-04-05 01:59:00 2025-04-05 02:14:00                4   \n",
       "\n",
       "      trip_distance  PULocationID  DOLocationID payment_type  fare_amount  \\\n",
       "0              6.24            18           173   Google pay        15.18   \n",
       "1             17.08            54            35     Uber Pay        37.22   \n",
       "2              9.78            97            77         Cash        22.38   \n",
       "3              2.99           234           185   Google pay         8.58   \n",
       "4             20.71           240            55     Uber Pay        44.59   \n",
       "...             ...           ...           ...          ...          ...   \n",
       "9495          22.11             8            12         Cash        47.44   \n",
       "9496          10.66           183           187         Cash        24.17   \n",
       "9497          20.10            77           169         Cash        43.35   \n",
       "9498          27.03            67           106         Cash        57.44   \n",
       "9499          21.93           148           176         Cash        47.07   \n",
       "\n",
       "      surge_fare  duration  \n",
       "0           4.98        30  \n",
       "1           0.02        49  \n",
       "2           3.51        12  \n",
       "3           0.11        58  \n",
       "4           6.83        13  \n",
       "...          ...       ...  \n",
       "9495        3.41         6  \n",
       "9496        5.01        44  \n",
       "9497        0.50        42  \n",
       "9498        5.65        31  \n",
       "9499        6.27        15  \n",
       "\n",
       "[9500 rows x 11 columns]"
      ]
     },
     "execution_count": 17,
     "metadata": {},
     "output_type": "execute_result"
    }
   ],
   "source": [
    "trips_df"
   ]
  },
  {
   "cell_type": "markdown",
   "id": "053d2f64-8d2b-44d7-8ddd-4961aa2751a8",
   "metadata": {},
   "source": [
    "# load another file"
   ]
  },
  {
   "cell_type": "code",
   "execution_count": 18,
   "id": "ed1347b1-2391-4952-bf80-9591c42228e9",
   "metadata": {},
   "outputs": [
    {
     "data": {
      "text/html": [
       "<div>\n",
       "<style scoped>\n",
       "    .dataframe tbody tr th:only-of-type {\n",
       "        vertical-align: middle;\n",
       "    }\n",
       "\n",
       "    .dataframe tbody tr th {\n",
       "        vertical-align: top;\n",
       "    }\n",
       "\n",
       "    .dataframe thead th {\n",
       "        text-align: right;\n",
       "    }\n",
       "</style>\n",
       "<table border=\"1\" class=\"dataframe\">\n",
       "  <thead>\n",
       "    <tr style=\"text-align: right;\">\n",
       "      <th></th>\n",
       "      <th>id</th>\n",
       "      <th>location_name</th>\n",
       "    </tr>\n",
       "  </thead>\n",
       "  <tbody>\n",
       "    <tr>\n",
       "      <th>0</th>\n",
       "      <td>1</td>\n",
       "      <td>Bangalore</td>\n",
       "    </tr>\n",
       "    <tr>\n",
       "      <th>1</th>\n",
       "      <td>2</td>\n",
       "      <td>Nashik</td>\n",
       "    </tr>\n",
       "    <tr>\n",
       "      <th>2</th>\n",
       "      <td>3</td>\n",
       "      <td>Bangalore</td>\n",
       "    </tr>\n",
       "    <tr>\n",
       "      <th>3</th>\n",
       "      <td>4</td>\n",
       "      <td>Hyderabad</td>\n",
       "    </tr>\n",
       "    <tr>\n",
       "      <th>4</th>\n",
       "      <td>5</td>\n",
       "      <td>Thiruvananthapuram</td>\n",
       "    </tr>\n",
       "    <tr>\n",
       "      <th>...</th>\n",
       "      <td>...</td>\n",
       "      <td>...</td>\n",
       "    </tr>\n",
       "    <tr>\n",
       "      <th>945</th>\n",
       "      <td>946</td>\n",
       "      <td>Jaipur</td>\n",
       "    </tr>\n",
       "    <tr>\n",
       "      <th>946</th>\n",
       "      <td>947</td>\n",
       "      <td>Varanasi</td>\n",
       "    </tr>\n",
       "    <tr>\n",
       "      <th>947</th>\n",
       "      <td>948</td>\n",
       "      <td>Jaipur</td>\n",
       "    </tr>\n",
       "    <tr>\n",
       "      <th>948</th>\n",
       "      <td>949</td>\n",
       "      <td>Visakhapatnam</td>\n",
       "    </tr>\n",
       "    <tr>\n",
       "      <th>949</th>\n",
       "      <td>950</td>\n",
       "      <td>Visakhapatnam</td>\n",
       "    </tr>\n",
       "  </tbody>\n",
       "</table>\n",
       "<p>950 rows × 2 columns</p>\n",
       "</div>"
      ],
      "text/plain": [
       "      id       location_name\n",
       "0      1           Bangalore\n",
       "1      2              Nashik\n",
       "2      3           Bangalore\n",
       "3      4           Hyderabad\n",
       "4      5  Thiruvananthapuram\n",
       "..   ...                 ...\n",
       "945  946              Jaipur\n",
       "946  947            Varanasi\n",
       "947  948              Jaipur\n",
       "948  949       Visakhapatnam\n",
       "949  950       Visakhapatnam\n",
       "\n",
       "[950 rows x 2 columns]"
      ]
     },
     "execution_count": 18,
     "metadata": {},
     "output_type": "execute_result"
    }
   ],
   "source": [
    "location_df=pd.read_csv(\"C:\\\\Users\\\\kapur\\\\Downloads\\\\location_data.csv\")\n",
    "location_df"
   ]
  },
  {
   "cell_type": "code",
   "execution_count": 19,
   "id": "135c3e56-c764-4180-8b6b-24d46780a894",
   "metadata": {},
   "outputs": [
    {
     "data": {
      "text/plain": [
       "Index(['id', 'location_name'], dtype='object')"
      ]
     },
     "execution_count": 19,
     "metadata": {},
     "output_type": "execute_result"
    }
   ],
   "source": [
    "location_df.columns"
   ]
  },
  {
   "cell_type": "code",
   "execution_count": 20,
   "id": "cb63e130-8c33-486e-92f4-b9a2910af5a1",
   "metadata": {},
   "outputs": [
    {
     "name": "stdout",
     "output_type": "stream",
     "text": [
      "<class 'pandas.core.frame.DataFrame'>\n",
      "RangeIndex: 950 entries, 0 to 949\n",
      "Data columns (total 2 columns):\n",
      " #   Column         Non-Null Count  Dtype \n",
      "---  ------         --------------  ----- \n",
      " 0   id             950 non-null    int64 \n",
      " 1   location_name  950 non-null    object\n",
      "dtypes: int64(1), object(1)\n",
      "memory usage: 15.0+ KB\n"
     ]
    }
   ],
   "source": [
    "location_df.info()"
   ]
  },
  {
   "cell_type": "code",
   "execution_count": 21,
   "id": "fd8f2675-c6a3-4590-997f-e0ec6068ec69",
   "metadata": {},
   "outputs": [
    {
     "data": {
      "text/plain": [
       "trip_id             0\n",
       "pickup_time         0\n",
       "drop_time           0\n",
       "passenger_count     0\n",
       "trip_distance       0\n",
       "PULocationID        0\n",
       "DOLocationID        0\n",
       "payment_type       11\n",
       "fare_amount         0\n",
       "surge_fare          0\n",
       "duration            0\n",
       "dtype: int64"
      ]
     },
     "execution_count": 21,
     "metadata": {},
     "output_type": "execute_result"
    }
   ],
   "source": [
    "trips_df.isnull().sum()"
   ]
  },
  {
   "cell_type": "code",
   "execution_count": 22,
   "id": "693c592e-966d-4f6b-b050-5ffb70d5d2cb",
   "metadata": {},
   "outputs": [
    {
     "data": {
      "text/plain": [
       "0       Google pay\n",
       "1         Uber Pay\n",
       "2             Cash\n",
       "3       Google pay\n",
       "4         Uber Pay\n",
       "           ...    \n",
       "9495          Cash\n",
       "9496          Cash\n",
       "9497          Cash\n",
       "9498          Cash\n",
       "9499          Cash\n",
       "Name: payment_type, Length: 9500, dtype: object"
      ]
     },
     "execution_count": 22,
     "metadata": {},
     "output_type": "execute_result"
    }
   ],
   "source": [
    "trips_df[\"payment_type\"]=trips_df[\"payment_type\"].fillna(value=trips_df[\"payment_type\"].bfill())\n",
    "trips_df[\"payment_type\"]"
   ]
  },
  {
   "cell_type": "code",
   "execution_count": 27,
   "id": "07c0af7e-c491-41d1-8c40-d46ae6b16a8b",
   "metadata": {},
   "outputs": [
    {
     "data": {
      "text/plain": [
       "np.int64(0)"
      ]
     },
     "execution_count": 27,
     "metadata": {},
     "output_type": "execute_result"
    }
   ],
   "source": [
    "trips_df.duplicated().sum()"
   ]
  },
  {
   "cell_type": "code",
   "execution_count": 24,
   "id": "fb34750b-48a4-4c62-a562-9ec701539c1c",
   "metadata": {},
   "outputs": [
    {
     "data": {
      "text/plain": [
       "np.int64(0)"
      ]
     },
     "execution_count": 24,
     "metadata": {},
     "output_type": "execute_result"
    }
   ],
   "source": [
    "trips_df[\"trip_id\"].duplicated().sum()"
   ]
  },
  {
   "cell_type": "code",
   "execution_count": 25,
   "id": "7fef0da2-d14b-4eed-a65b-10e81ee6a21a",
   "metadata": {},
   "outputs": [
    {
     "data": {
      "text/plain": [
       "np.int64(9500)"
      ]
     },
     "execution_count": 25,
     "metadata": {},
     "output_type": "execute_result"
    }
   ],
   "source": [
    "trips_df[\"trip_id\"].count()"
   ]
  },
  {
   "cell_type": "code",
   "execution_count": 26,
   "id": "179197a3-c4a5-440e-9fc0-c1ee38d1b3c5",
   "metadata": {},
   "outputs": [
    {
     "data": {
      "text/plain": [
       "pickup_time\n",
       "2025-04-26 04:16:00    4\n",
       "2025-04-14 02:10:00    4\n",
       "2025-04-30 17:59:00    3\n",
       "2025-04-15 06:19:00    3\n",
       "2025-04-27 01:33:00    3\n",
       "Name: count, dtype: int64"
      ]
     },
     "execution_count": 26,
     "metadata": {},
     "output_type": "execute_result"
    }
   ],
   "source": [
    "pickup_top5=trips_df[\"pickup_time\"].value_counts().head(5)\n",
    "pickup_top5"
   ]
  },
  {
   "cell_type": "code",
   "execution_count": 25,
   "id": "75fcbbd8-a6ba-4992-a808-663952592238",
   "metadata": {},
   "outputs": [
    {
     "data": {
      "text/plain": [
       "<Axes: xlabel='pickup_time'>"
      ]
     },
     "execution_count": 25,
     "metadata": {},
     "output_type": "execute_result"
    },
    {
     "data": {
      "image/png": "[encoded data removed]",
      "text/plain": [
       "<Figure size 640x480 with 1 Axes>"
      ]
     },
     "metadata": {},
     "output_type": "display_data"
    }
   ],
   "source": [
    "pickup_top5.plot(kind=\"bar\")"
   ]
  },
  {
   "cell_type": "code",
   "execution_count": 97,
   "id": "0851bf0c-148b-459e-9865-7a07f59e47ec",
   "metadata": {},
   "outputs": [
    {
     "data": {
      "text/plain": [
       "drop_time\n",
       "2025-04-11 23:31:00    4\n",
       "2025-04-20 12:01:00    4\n",
       "2025-04-08 04:08:00    4\n",
       "2025-04-26 16:06:00    4\n",
       "2025-04-22 17:03:00    4\n",
       "Name: count, dtype: int64"
      ]
     },
     "execution_count": 97,
     "metadata": {},
     "output_type": "execute_result"
    }
   ],
   "source": [
    "trips_df[\"drop_time\"].value_counts().head(5)"
   ]
  },
  {
   "cell_type": "code",
   "execution_count": 21,
   "id": "4c054a86-2287-4dff-b527-24eda40dbc1c",
   "metadata": {},
   "outputs": [
    {
     "data": {
      "text/html": [
       "<div>\n",
       "<style scoped>\n",
       "    .dataframe tbody tr th:only-of-type {\n",
       "        vertical-align: middle;\n",
       "    }\n",
       "\n",
       "    .dataframe tbody tr th {\n",
       "        vertical-align: top;\n",
       "    }\n",
       "\n",
       "    .dataframe thead th {\n",
       "        text-align: right;\n",
       "    }\n",
       "</style>\n",
       "<table border=\"1\" class=\"dataframe\">\n",
       "  <thead>\n",
       "    <tr style=\"text-align: right;\">\n",
       "      <th></th>\n",
       "      <th>trip_id</th>\n",
       "      <th>pickup_time</th>\n",
       "      <th>drop_time</th>\n",
       "      <th>passenger_count</th>\n",
       "      <th>trip_distance</th>\n",
       "      <th>PULocationID</th>\n",
       "      <th>DOLocationID</th>\n",
       "      <th>fare_amount</th>\n",
       "      <th>surge_fare</th>\n",
       "      <th>duration</th>\n",
       "    </tr>\n",
       "    <tr>\n",
       "      <th>payment_type</th>\n",
       "      <th></th>\n",
       "      <th></th>\n",
       "      <th></th>\n",
       "      <th></th>\n",
       "      <th></th>\n",
       "      <th></th>\n",
       "      <th></th>\n",
       "      <th></th>\n",
       "      <th></th>\n",
       "      <th></th>\n",
       "    </tr>\n",
       "  </thead>\n",
       "  <tbody>\n",
       "    <tr>\n",
       "      <th>Cash</th>\n",
       "      <td>9216</td>\n",
       "      <td>9216</td>\n",
       "      <td>9216</td>\n",
       "      <td>9216</td>\n",
       "      <td>9216</td>\n",
       "      <td>9216</td>\n",
       "      <td>9216</td>\n",
       "      <td>9216</td>\n",
       "      <td>9216</td>\n",
       "      <td>9216</td>\n",
       "    </tr>\n",
       "    <tr>\n",
       "      <th>Google pay</th>\n",
       "      <td>265</td>\n",
       "      <td>265</td>\n",
       "      <td>265</td>\n",
       "      <td>265</td>\n",
       "      <td>265</td>\n",
       "      <td>265</td>\n",
       "      <td>265</td>\n",
       "      <td>265</td>\n",
       "      <td>265</td>\n",
       "      <td>265</td>\n",
       "    </tr>\n",
       "    <tr>\n",
       "      <th>Uber Pay</th>\n",
       "      <td>19</td>\n",
       "      <td>19</td>\n",
       "      <td>19</td>\n",
       "      <td>19</td>\n",
       "      <td>19</td>\n",
       "      <td>19</td>\n",
       "      <td>19</td>\n",
       "      <td>19</td>\n",
       "      <td>19</td>\n",
       "      <td>19</td>\n",
       "    </tr>\n",
       "  </tbody>\n",
       "</table>\n",
       "</div>"
      ],
      "text/plain": [
       "              trip_id  pickup_time  drop_time  passenger_count  trip_distance  \\\n",
       "payment_type                                                                    \n",
       "Cash             9216         9216       9216             9216           9216   \n",
       "Google pay        265          265        265              265            265   \n",
       "Uber Pay           19           19         19               19             19   \n",
       "\n",
       "              PULocationID  DOLocationID  fare_amount  surge_fare  duration  \n",
       "payment_type                                                                 \n",
       "Cash                  9216          9216         9216        9216      9216  \n",
       "Google pay             265           265          265         265       265  \n",
       "Uber Pay                19            19           19          19        19  "
      ]
     },
     "execution_count": 21,
     "metadata": {},
     "output_type": "execute_result"
    }
   ],
   "source": [
    "count_types=trips_df.groupby(\"payment_type\").count()\n",
    "count_types"
   ]
  },
  {
   "cell_type": "code",
   "execution_count": 22,
   "id": "e726d20a-d428-4835-b2e5-38341ce6eabf",
   "metadata": {},
   "outputs": [
    {
     "data": {
      "text/plain": [
       "np.float64(15.331126315789476)"
      ]
     },
     "execution_count": 22,
     "metadata": {},
     "output_type": "execute_result"
    }
   ],
   "source": [
    "trips_df[\"trip_distance\"].mean()"
   ]
  },
  {
   "cell_type": "code",
   "execution_count": 109,
   "id": "735d8d8b-2ae4-406a-92f1-a5a8657d1085",
   "metadata": {},
   "outputs": [
    {
     "data": {
      "text/plain": [
       "count    9500.000000\n",
       "mean       15.331126\n",
       "std         8.469005\n",
       "min         0.500000\n",
       "25%         8.150000\n",
       "50%        15.430000\n",
       "75%        22.550000\n",
       "max        30.000000\n",
       "Name: trip_distance, dtype: float64"
      ]
     },
     "execution_count": 109,
     "metadata": {},
     "output_type": "execute_result"
    }
   ],
   "source": [
    "trips_df[\"trip_distance\"].describe()"
   ]
  },
  {
   "cell_type": "code",
   "execution_count": 111,
   "id": "56fca743-20d2-4957-9ddf-b26fd4098546",
   "metadata": {},
   "outputs": [
    {
     "data": {
      "text/plain": [
       "np.float64(33.66114947368421)"
      ]
     },
     "execution_count": 111,
     "metadata": {},
     "output_type": "execute_result"
    }
   ],
   "source": [
    "trips_df[\"fare_amount\"].mean()"
   ]
  },
  {
   "cell_type": "code",
   "execution_count": 112,
   "id": "bf936cac-f1fb-4d80-ab67-01d95ad72bae",
   "metadata": {},
   "outputs": [
    {
     "data": {
      "text/plain": [
       "count    9500.000000\n",
       "mean       33.661149\n",
       "std        17.213569\n",
       "min         3.520000\n",
       "25%        19.070000\n",
       "50%        33.860000\n",
       "75%        48.330000\n",
       "max        63.480000\n",
       "Name: fare_amount, dtype: float64"
      ]
     },
     "execution_count": 112,
     "metadata": {},
     "output_type": "execute_result"
    }
   ],
   "source": [
    "trips_df[\"fare_amount\"].describe()"
   ]
  },
  {
   "cell_type": "code",
   "execution_count": 122,
   "id": "bd9339b2-6b49-45b6-a42d-015884859fa7",
   "metadata": {},
   "outputs": [
    {
     "data": {
      "text/plain": [
       "8537"
      ]
     },
     "execution_count": 122,
     "metadata": {},
     "output_type": "execute_result"
    }
   ],
   "source": [
    "trips_df[\"pickup_time\"].nunique()"
   ]
  },
  {
   "cell_type": "code",
   "execution_count": 123,
   "id": "7ca769e1-8368-4bfe-bd63-a20aea9e73f8",
   "metadata": {},
   "outputs": [
    {
     "data": {
      "text/plain": [
       "8488"
      ]
     },
     "execution_count": 123,
     "metadata": {},
     "output_type": "execute_result"
    }
   ],
   "source": [
    "trips_df[\"drop_time\"].nunique()"
   ]
  },
  {
   "cell_type": "code",
   "execution_count": 23,
   "id": "339a2e75-5120-4e72-b377-d1623c84ef42",
   "metadata": {},
   "outputs": [
    {
     "data": {
      "text/plain": [
       "0       April\n",
       "1       April\n",
       "2       April\n",
       "3       April\n",
       "4       April\n",
       "        ...  \n",
       "9495    April\n",
       "9496    April\n",
       "9497    April\n",
       "9498    April\n",
       "9499    April\n",
       "Name: pickup_time, Length: 9500, dtype: object"
      ]
     },
     "execution_count": 23,
     "metadata": {},
     "output_type": "execute_result"
    }
   ],
   "source": [
    "months=trips_df[\"pickup_time\"].dt.month_name()\n",
    "months"
   ]
  },
  {
   "cell_type": "code",
   "execution_count": 24,
   "id": "bbe0de8f-5e75-4c4e-b56d-9ed1e632f5e6",
   "metadata": {},
   "outputs": [
    {
     "data": {
      "text/plain": [
       "0       2025\n",
       "1       2025\n",
       "2       2025\n",
       "3       2025\n",
       "4       2025\n",
       "        ... \n",
       "9495    2025\n",
       "9496    2025\n",
       "9497    2025\n",
       "9498    2025\n",
       "9499    2025\n",
       "Name: drop_time, Length: 9500, dtype: int32"
      ]
     },
     "execution_count": 24,
     "metadata": {},
     "output_type": "execute_result"
    }
   ],
   "source": [
    "year=trips_df[\"drop_time\"].dt.year\n",
    "year"
   ]
  },
  {
   "cell_type": "code",
   "execution_count": 25,
   "id": "2118cbfa-4a66-486a-811b-eec940c8f7d0",
   "metadata": {},
   "outputs": [
    {
     "data": {
      "text/plain": [
       "0       30\n",
       "1        6\n",
       "2        2\n",
       "3       13\n",
       "4       12\n",
       "        ..\n",
       "9495    25\n",
       "9496    26\n",
       "9497     4\n",
       "9498    14\n",
       "9499     5\n",
       "Name: pickup_time, Length: 9500, dtype: int32"
      ]
     },
     "execution_count": 25,
     "metadata": {},
     "output_type": "execute_result"
    }
   ],
   "source": [
    "day=trips_df[\"pickup_time\"].dt.day\n",
    "day"
   ]
  },
  {
   "cell_type": "code",
   "execution_count": 71,
   "id": "e95ee5cf-cf4f-470f-bf50-21fffdc7142f",
   "metadata": {
    "scrolled": true
   },
   "outputs": [
    {
     "data": {
      "text/plain": [
       "pickup_time\n",
       "30    355\n",
       "21    351\n",
       "7     344\n",
       "26    338\n",
       "19    335\n",
       "5     335\n",
       "27    333\n",
       "23    332\n",
       "14    329\n",
       "6     325\n",
       "15    324\n",
       "8     320\n",
       "28    319\n",
       "4     318\n",
       "13    315\n",
       "25    314\n",
       "22    313\n",
       "18    313\n",
       "3     313\n",
       "17    311\n",
       "29    307\n",
       "24    305\n",
       "16    303\n",
       "11    302\n",
       "20    299\n",
       "12    297\n",
       "10    296\n",
       "2     295\n",
       "9     280\n",
       "1     279\n",
       "Name: trip_id, dtype: int64"
      ]
     },
     "execution_count": 71,
     "metadata": {},
     "output_type": "execute_result"
    }
   ],
   "source": [
    "trips_by_day=trips_df.groupby(trips_df[\"pickup_time\"].dt.day)[\"trip_id\"].count().sort_values(ascending=False)\n",
    "trips_by_day"
   ]
  },
  {
   "cell_type": "code",
   "execution_count": 76,
   "id": "1f9dcc81-5038-4fa7-857c-7061f745bcdb",
   "metadata": {},
   "outputs": [
    {
     "data": {
      "image/png": "[encoded data removed]",
      "text/plain": [
       "<Figure size 640x480 with 1 Axes>"
      ]
     },
     "metadata": {},
     "output_type": "display_data"
    }
   ],
   "source": [
    "trips_by_day.head(10).plot(kind='bar')\n",
    "plt.xlabel(\"day\")\n",
    "plt.ylabel(\"trips\")\n",
    "plt.title(\"trips_by_day\")\n",
    "plt.show()"
   ]
  },
  {
   "cell_type": "code",
   "execution_count": 28,
   "id": "4adca3e6-79a6-4edf-8cc1-6c52401f8090",
   "metadata": {},
   "outputs": [
    {
     "data": {
      "text/plain": [
       "pickup_time          drop_time          \n",
       "2025-04-10 03:11:00  2025-04-10 04:01:00    2\n",
       "2025-04-04 05:59:00  2025-04-04 06:33:00    2\n",
       "2025-04-15 08:33:00  2025-04-15 09:18:00    2\n",
       "2025-04-06 07:37:00  2025-04-06 08:11:00    2\n",
       "2025-04-09 13:35:00  2025-04-09 14:16:00    2\n",
       "2025-04-10 04:33:00  2025-04-10 05:31:00    2\n",
       "2025-04-08 08:13:00  2025-04-08 08:50:00    2\n",
       "2025-04-04 02:56:00  2025-04-04 03:06:00    2\n",
       "2025-04-08 05:38:00  2025-04-08 06:00:00    2\n",
       "2025-04-02 08:12:00  2025-04-02 08:22:00    2\n",
       "Name: count, dtype: int64"
      ]
     },
     "execution_count": 28,
     "metadata": {},
     "output_type": "execute_result"
    }
   ],
   "source": [
    "trips_df.groupby(\"pickup_time\")[\"drop_time\"].value_counts().sort_values(ascending=False).head(10)"
   ]
  },
  {
   "cell_type": "code",
   "execution_count": 29,
   "id": "1a7b07b7-4680-4669-8375-1d38a791ead2",
   "metadata": {},
   "outputs": [
    {
     "data": {
      "text/plain": [
       "PULocationID\n",
       "1      36.188571\n",
       "2      32.185833\n",
       "3      35.894722\n",
       "4      34.578947\n",
       "5      34.134571\n",
       "         ...    \n",
       "259    33.583478\n",
       "260    31.489394\n",
       "261    30.648718\n",
       "262    37.318158\n",
       "263    32.487500\n",
       "Name: fare_amount, Length: 263, dtype: float64"
      ]
     },
     "execution_count": 29,
     "metadata": {},
     "output_type": "execute_result"
    }
   ],
   "source": [
    "trips_df.groupby(\"PULocationID\")[\"fare_amount\"].mean()"
   ]
  },
  {
   "cell_type": "code",
   "execution_count": 30,
   "id": "fdfb9ac0-bb26-4f31-99eb-fb7bfe8ca99d",
   "metadata": {},
   "outputs": [
    {
     "data": {
      "text/plain": [
       "payment_type\n",
       "Cash          33.681558\n",
       "Google pay    32.989660\n",
       "Uber Pay      33.127368\n",
       "Name: fare_amount, dtype: float64"
      ]
     },
     "execution_count": 30,
     "metadata": {},
     "output_type": "execute_result"
    }
   ],
   "source": [
    "avg_fare_by_type=trips_df.groupby(\"payment_type\")[\"fare_amount\"].mean()\n",
    "avg_fare_by_type"
   ]
  },
  {
   "cell_type": "code",
   "execution_count": 31,
   "id": "fd8ea846-1994-48c5-9ba9-43655ac4dad7",
   "metadata": {},
   "outputs": [
    {
     "data": {
      "image/png": "[encoded data removed]",
      "text/plain": [
       "<Figure size 640x480 with 1 Axes>"
      ]
     },
     "metadata": {},
     "output_type": "display_data"
    }
   ],
   "source": [
    "avg_fare_by_type.plot(kind='pie',autopct='%.0f%%')\n",
    "plt.ylabel(\" \")\n",
    "plt.legend()\n",
    "plt.show()"
   ]
  },
  {
   "cell_type": "code",
   "execution_count": 32,
   "id": "ab0a8265-2f49-44f2-83e4-d86f5c1a6733",
   "metadata": {},
   "outputs": [
    {
     "data": {
      "text/plain": [
       "np.float64(145645.7)"
      ]
     },
     "execution_count": 32,
     "metadata": {},
     "output_type": "execute_result"
    }
   ],
   "source": [
    "trips_df[\"trip_distance\"].sum()"
   ]
  },
  {
   "cell_type": "code",
   "execution_count": 33,
   "id": "bde72798-5cf0-4eb9-8f08-85ee34bf18c9",
   "metadata": {
    "scrolled": true
   },
   "outputs": [
    {
     "data": {
      "text/html": [
       "<div>\n",
       "<style scoped>\n",
       "    .dataframe tbody tr th:only-of-type {\n",
       "        vertical-align: middle;\n",
       "    }\n",
       "\n",
       "    .dataframe tbody tr th {\n",
       "        vertical-align: top;\n",
       "    }\n",
       "\n",
       "    .dataframe thead th {\n",
       "        text-align: right;\n",
       "    }\n",
       "</style>\n",
       "<table border=\"1\" class=\"dataframe\">\n",
       "  <thead>\n",
       "    <tr style=\"text-align: right;\">\n",
       "      <th></th>\n",
       "      <th>trip_id</th>\n",
       "      <th>pickup_time</th>\n",
       "      <th>drop_time</th>\n",
       "      <th>passenger_count</th>\n",
       "      <th>trip_distance</th>\n",
       "      <th>PULocationID</th>\n",
       "      <th>DOLocationID</th>\n",
       "      <th>payment_type</th>\n",
       "      <th>fare_amount</th>\n",
       "      <th>surge_fare</th>\n",
       "      <th>duration</th>\n",
       "    </tr>\n",
       "  </thead>\n",
       "  <tbody>\n",
       "    <tr>\n",
       "      <th>0</th>\n",
       "      <td>1</td>\n",
       "      <td>2025-04-30 02:25:00</td>\n",
       "      <td>2025-04-30 02:55:00</td>\n",
       "      <td>4</td>\n",
       "      <td>6.24</td>\n",
       "      <td>18</td>\n",
       "      <td>173</td>\n",
       "      <td>Google pay</td>\n",
       "      <td>15.18</td>\n",
       "      <td>4.98</td>\n",
       "      <td>30</td>\n",
       "    </tr>\n",
       "    <tr>\n",
       "      <th>1</th>\n",
       "      <td>2</td>\n",
       "      <td>2025-04-06 01:36:00</td>\n",
       "      <td>2025-04-06 02:25:00</td>\n",
       "      <td>5</td>\n",
       "      <td>17.08</td>\n",
       "      <td>54</td>\n",
       "      <td>35</td>\n",
       "      <td>Uber Pay</td>\n",
       "      <td>37.22</td>\n",
       "      <td>0.02</td>\n",
       "      <td>49</td>\n",
       "    </tr>\n",
       "    <tr>\n",
       "      <th>2</th>\n",
       "      <td>3</td>\n",
       "      <td>2025-04-02 03:19:00</td>\n",
       "      <td>2025-04-02 03:31:00</td>\n",
       "      <td>3</td>\n",
       "      <td>9.78</td>\n",
       "      <td>97</td>\n",
       "      <td>77</td>\n",
       "      <td>Cash</td>\n",
       "      <td>22.38</td>\n",
       "      <td>3.51</td>\n",
       "      <td>12</td>\n",
       "    </tr>\n",
       "    <tr>\n",
       "      <th>3</th>\n",
       "      <td>4</td>\n",
       "      <td>2025-04-13 12:24:00</td>\n",
       "      <td>2025-04-13 13:22:00</td>\n",
       "      <td>5</td>\n",
       "      <td>2.99</td>\n",
       "      <td>234</td>\n",
       "      <td>185</td>\n",
       "      <td>Google pay</td>\n",
       "      <td>8.58</td>\n",
       "      <td>0.11</td>\n",
       "      <td>58</td>\n",
       "    </tr>\n",
       "    <tr>\n",
       "      <th>4</th>\n",
       "      <td>5</td>\n",
       "      <td>2025-04-12 03:29:00</td>\n",
       "      <td>2025-04-12 03:42:00</td>\n",
       "      <td>5</td>\n",
       "      <td>20.71</td>\n",
       "      <td>240</td>\n",
       "      <td>55</td>\n",
       "      <td>Uber Pay</td>\n",
       "      <td>44.59</td>\n",
       "      <td>6.83</td>\n",
       "      <td>13</td>\n",
       "    </tr>\n",
       "    <tr>\n",
       "      <th>...</th>\n",
       "      <td>...</td>\n",
       "      <td>...</td>\n",
       "      <td>...</td>\n",
       "      <td>...</td>\n",
       "      <td>...</td>\n",
       "      <td>...</td>\n",
       "      <td>...</td>\n",
       "      <td>...</td>\n",
       "      <td>...</td>\n",
       "      <td>...</td>\n",
       "      <td>...</td>\n",
       "    </tr>\n",
       "    <tr>\n",
       "      <th>9495</th>\n",
       "      <td>9496</td>\n",
       "      <td>2025-04-25 07:22:00</td>\n",
       "      <td>2025-04-25 07:28:00</td>\n",
       "      <td>6</td>\n",
       "      <td>22.11</td>\n",
       "      <td>8</td>\n",
       "      <td>12</td>\n",
       "      <td>Cash</td>\n",
       "      <td>47.44</td>\n",
       "      <td>3.41</td>\n",
       "      <td>6</td>\n",
       "    </tr>\n",
       "    <tr>\n",
       "      <th>9496</th>\n",
       "      <td>9497</td>\n",
       "      <td>2025-04-26 15:02:00</td>\n",
       "      <td>2025-04-26 15:46:00</td>\n",
       "      <td>5</td>\n",
       "      <td>10.66</td>\n",
       "      <td>183</td>\n",
       "      <td>187</td>\n",
       "      <td>Cash</td>\n",
       "      <td>24.17</td>\n",
       "      <td>5.01</td>\n",
       "      <td>44</td>\n",
       "    </tr>\n",
       "    <tr>\n",
       "      <th>9497</th>\n",
       "      <td>9498</td>\n",
       "      <td>2025-04-04 04:23:00</td>\n",
       "      <td>2025-04-04 05:05:00</td>\n",
       "      <td>1</td>\n",
       "      <td>20.10</td>\n",
       "      <td>77</td>\n",
       "      <td>169</td>\n",
       "      <td>Cash</td>\n",
       "      <td>43.35</td>\n",
       "      <td>0.50</td>\n",
       "      <td>42</td>\n",
       "    </tr>\n",
       "    <tr>\n",
       "      <th>9498</th>\n",
       "      <td>9499</td>\n",
       "      <td>2025-04-14 16:22:00</td>\n",
       "      <td>2025-04-14 16:53:00</td>\n",
       "      <td>1</td>\n",
       "      <td>27.03</td>\n",
       "      <td>67</td>\n",
       "      <td>106</td>\n",
       "      <td>Cash</td>\n",
       "      <td>57.44</td>\n",
       "      <td>5.65</td>\n",
       "      <td>31</td>\n",
       "    </tr>\n",
       "    <tr>\n",
       "      <th>9499</th>\n",
       "      <td>9500</td>\n",
       "      <td>2025-04-05 01:59:00</td>\n",
       "      <td>2025-04-05 02:14:00</td>\n",
       "      <td>4</td>\n",
       "      <td>21.93</td>\n",
       "      <td>148</td>\n",
       "      <td>176</td>\n",
       "      <td>Cash</td>\n",
       "      <td>47.07</td>\n",
       "      <td>6.27</td>\n",
       "      <td>15</td>\n",
       "    </tr>\n",
       "  </tbody>\n",
       "</table>\n",
       "<p>9500 rows × 11 columns</p>\n",
       "</div>"
      ],
      "text/plain": [
       "      trip_id         pickup_time           drop_time  passenger_count  \\\n",
       "0           1 2025-04-30 02:25:00 2025-04-30 02:55:00                4   \n",
       "1           2 2025-04-06 01:36:00 2025-04-06 02:25:00                5   \n",
       "2           3 2025-04-02 03:19:00 2025-04-02 03:31:00                3   \n",
       "3           4 2025-04-13 12:24:00 2025-04-13 13:22:00                5   \n",
       "4           5 2025-04-12 03:29:00 2025-04-12 03:42:00                5   \n",
       "...       ...                 ...                 ...              ...   \n",
       "9495     9496 2025-04-25 07:22:00 2025-04-25 07:28:00                6   \n",
       "9496     9497 2025-04-26 15:02:00 2025-04-26 15:46:00                5   \n",
       "9497     9498 2025-04-04 04:23:00 2025-04-04 05:05:00                1   \n",
       "9498     9499 2025-04-14 16:22:00 2025-04-14 16:53:00                1   \n",
       "9499     9500 2025-04-05 01:59:00 2025-04-05 02:14:00                4   \n",
       "\n",
       "      trip_distance  PULocationID  DOLocationID payment_type  fare_amount  \\\n",
       "0              6.24            18           173   Google pay        15.18   \n",
       "1             17.08            54            35     Uber Pay        37.22   \n",
       "2              9.78            97            77         Cash        22.38   \n",
       "3              2.99           234           185   Google pay         8.58   \n",
       "4             20.71           240            55     Uber Pay        44.59   \n",
       "...             ...           ...           ...          ...          ...   \n",
       "9495          22.11             8            12         Cash        47.44   \n",
       "9496          10.66           183           187         Cash        24.17   \n",
       "9497          20.10            77           169         Cash        43.35   \n",
       "9498          27.03            67           106         Cash        57.44   \n",
       "9499          21.93           148           176         Cash        47.07   \n",
       "\n",
       "      surge_fare  duration  \n",
       "0           4.98        30  \n",
       "1           0.02        49  \n",
       "2           3.51        12  \n",
       "3           0.11        58  \n",
       "4           6.83        13  \n",
       "...          ...       ...  \n",
       "9495        3.41         6  \n",
       "9496        5.01        44  \n",
       "9497        0.50        42  \n",
       "9498        5.65        31  \n",
       "9499        6.27        15  \n",
       "\n",
       "[9500 rows x 11 columns]"
      ]
     },
     "execution_count": 33,
     "metadata": {},
     "output_type": "execute_result"
    }
   ],
   "source": [
    "trips_df"
   ]
  },
  {
   "cell_type": "code",
   "execution_count": 36,
   "id": "2f407c92-c823-4cf9-8a17-22366b44e5fa",
   "metadata": {},
   "outputs": [
    {
     "data": {
      "text/plain": [
       "payment_type\n",
       "Cash          9216\n",
       "Google pay     265\n",
       "Uber Pay        19\n",
       "Name: trip_id, dtype: int64"
      ]
     },
     "execution_count": 36,
     "metadata": {},
     "output_type": "execute_result"
    }
   ],
   "source": [
    "Distribution_of_payment_types=trips_df.groupby(\"payment_type\")[\"trip_id\"].count()\n",
    "Distribution_of_payment_types"
   ]
  },
  {
   "cell_type": "code",
   "execution_count": 41,
   "id": "2057c624-5c8a-4710-83d8-84930449dfd1",
   "metadata": {},
   "outputs": [
    {
     "data": {
      "image/png": "[encoded data removed]",
      "text/plain": [
       "<Figure size 640x480 with 1 Axes>"
      ]
     },
     "metadata": {},
     "output_type": "display_data"
    }
   ],
   "source": [
    "Distribution_of_payment_types.plot(kind='pie',autopct=\"%.0f%%\")\n",
    "plt.legend()\n",
    "plt.ylabel(\" \")\n",
    "plt.show()"
   ]
  },
  {
   "cell_type": "code",
   "execution_count": 42,
   "id": "5e446709-0bef-461b-b967-c881c3cf5c32",
   "metadata": {},
   "outputs": [
    {
     "data": {
      "text/plain": [
       "np.float64(319780.92)"
      ]
     },
     "execution_count": 42,
     "metadata": {},
     "output_type": "execute_result"
    }
   ],
   "source": [
    "revenue=trips_df[\"fare_amount\"].sum()\n",
    "revenue"
   ]
  },
  {
   "cell_type": "code",
   "execution_count": 44,
   "id": "3e61afaa-cf4e-4081-a47c-ec21b2ee4055",
   "metadata": {},
   "outputs": [
    {
     "data": {
      "text/plain": [
       "payment_type\n",
       "Cash          310409.24\n",
       "Google pay      8742.26\n",
       "Uber Pay         629.42\n",
       "Name: fare_amount, dtype: float64"
      ]
     },
     "execution_count": 44,
     "metadata": {},
     "output_type": "execute_result"
    }
   ],
   "source": [
    "revenue_by_payment_type=trips_df.groupby(\"payment_type\")[\"fare_amount\"].sum()\n",
    "revenue_by_payment_type"
   ]
  },
  {
   "cell_type": "code",
   "execution_count": 51,
   "id": "872db652-ebb0-4ecb-8b60-75ac00bda8be",
   "metadata": {},
   "outputs": [
    {
     "data": {
      "image/png": "[encoded data removed]",
      "text/plain": [
       "<Figure size 640x480 with 1 Axes>"
      ]
     },
     "metadata": {},
     "output_type": "display_data"
    }
   ],
   "source": [
    "revenue_by_payment_type.plot(kind='box')\n",
    "plt.title(\"Total revenue by payment type\")\n",
    "plt.show()"
   ]
  },
  {
   "cell_type": "code",
   "execution_count": 53,
   "id": "b41685c9-32a9-4fce-8922-f6a74fe30e69",
   "metadata": {},
   "outputs": [
    {
     "data": {
      "text/plain": [
       "np.float64(32.41)"
      ]
     },
     "execution_count": 53,
     "metadata": {},
     "output_type": "execute_result"
    }
   ],
   "source": [
    "Trip_duration_stats=trips_df[\"duration\"].mean().round(2)\n",
    "Trip_duration_stats"
   ]
  },
  {
   "cell_type": "code",
   "execution_count": 55,
   "id": "fd70f9ef-0714-4d63-b85b-a31bfaea68d8",
   "metadata": {},
   "outputs": [
    {
     "data": {
      "text/plain": [
       "np.int64(60)"
      ]
     },
     "execution_count": 55,
     "metadata": {},
     "output_type": "execute_result"
    }
   ],
   "source": [
    "max_trip_duration=trips_df[\"duration\"].max()\n",
    "max_trip_duration"
   ]
  },
  {
   "cell_type": "code",
   "execution_count": 69,
   "id": "912d3fc7-8da5-417c-aec8-cd020cf1a8c9",
   "metadata": {},
   "outputs": [
    {
     "data": {
      "text/plain": [
       "17      23\n",
       "9487    23\n",
       "9441    23\n",
       "45      23\n",
       "9465    23\n",
       "        ..\n",
       "1201     0\n",
       "1220     0\n",
       "8047     0\n",
       "8051     0\n",
       "8072     0\n",
       "Name: pickup_time, Length: 9500, dtype: int32"
      ]
     },
     "execution_count": 69,
     "metadata": {},
     "output_type": "execute_result"
    }
   ],
   "source": [
    "hour=trips_df[\"pickup_time\"].dt.hour.sort_values(ascending=False)\n",
    "hour"
   ]
  },
  {
   "cell_type": "code",
   "execution_count": 95,
   "id": "47f2fc11-33a4-4a7c-b031-205d1635de11",
   "metadata": {},
   "outputs": [
    {
     "data": {
      "image/png": "[encoded data removed]",
      "text/plain": [
       "<Figure size 640x480 with 1 Axes>"
      ]
     },
     "metadata": {},
     "output_type": "display_data"
    }
   ],
   "source": [
    "hour.head(15).plot(kind='bar',color='violet')\n",
    "plt.title(\"top hours of trips\")\n",
    "plt.xlabel(\"trip_id\")\n",
    "plt.ylabel(\"hour\")\n",
    "plt.show()"
   ]
  },
  {
   "cell_type": "code",
   "execution_count": 86,
   "id": "6cb275c4-6736-4b05-bf56-66f171794ea7",
   "metadata": {},
   "outputs": [
    {
     "data": {
      "text/plain": [
       "pickup_time\n",
       "2025-04-14 02:10:00    4\n",
       "2025-04-26 04:16:00    4\n",
       "2025-04-12 09:49:00    3\n",
       "2025-04-11 21:19:00    3\n",
       "2025-04-05 23:27:00    3\n",
       "                      ..\n",
       "2025-04-30 21:28:00    1\n",
       "2025-04-02 21:26:00    1\n",
       "2025-04-30 21:32:00    1\n",
       "2025-04-30 21:34:00    1\n",
       "2025-04-01 00:26:00    1\n",
       "Name: trip_id, Length: 8537, dtype: int64"
      ]
     },
     "execution_count": 86,
     "metadata": {},
     "output_type": "execute_result"
    }
   ],
   "source": [
    "trips_over_time=trips_df.groupby(\"pickup_time\")[\"trip_id\"].count().sort_values(ascending=False)\n",
    "trips_over_time"
   ]
  },
  {
   "cell_type": "code",
   "execution_count": 90,
   "id": "10ca64ca-62a9-4b7c-b713-e459f21d7156",
   "metadata": {},
   "outputs": [
    {
     "data": {
      "image/png": "[encoded data removed]",
      "text/plain": [
       "<Figure size 640x480 with 1 Axes>"
      ]
     },
     "metadata": {},
     "output_type": "display_data"
    }
   ],
   "source": [
    "trips_over_time.head(10).plot(kind='bar',color='green')\n",
    "plt.title(\"trips over time\")\n",
    "plt.ylabel(\"trips\")\n",
    "plt.show()"
   ]
  },
  {
   "cell_type": "code",
   "execution_count": 99,
   "id": "4e1fe014-e466-4f75-b607-8e61027ed482",
   "metadata": {
    "scrolled": true
   },
   "outputs": [
    {
     "data": {
      "text/plain": [
       "pickup_time\n",
       "0     416\n",
       "1     425\n",
       "2     401\n",
       "3     408\n",
       "4     399\n",
       "5     403\n",
       "6     384\n",
       "7     380\n",
       "8     402\n",
       "9     397\n",
       "10    413\n",
       "11    387\n",
       "12    370\n",
       "13    417\n",
       "14    373\n",
       "15    420\n",
       "16    367\n",
       "17    408\n",
       "18    371\n",
       "19    378\n",
       "20    423\n",
       "21    368\n",
       "22    401\n",
       "23    389\n",
       "Name: trip_id, dtype: int64"
      ]
     },
     "execution_count": 99,
     "metadata": {},
     "output_type": "execute_result"
    }
   ],
   "source": [
    "trips_per_hour=trips_df.groupby(trips_df[\"pickup_time\"].dt.hour)[\"trip_id\"].count()\n",
    "trips_per_hour"
   ]
  },
  {
   "cell_type": "code",
   "execution_count": 105,
   "id": "f869b89e-d2a8-4efc-8d16-0c8e79055c4c",
   "metadata": {},
   "outputs": [
    {
     "data": {
      "image/png": "[encoded data removed]",
      "text/plain": [
       "<Figure size 640x480 with 1 Axes>"
      ]
     },
     "metadata": {},
     "output_type": "display_data"
    }
   ],
   "source": [
    "trips_per_hour.plot(kind='bar',color='blue')\n",
    "plt.title(\"total trips per hour\")\n",
    "plt.ylabel(\"total trips\")\n",
    "plt.show()"
   ]
  },
  {
   "cell_type": "code",
   "execution_count": 30,
   "id": "8326035d-1e60-4bbb-90f6-2b8bb245ca12",
   "metadata": {},
   "outputs": [
    {
     "data": {
      "image/png": "[encoded data removed]",
      "text/plain": [
       "<Figure size 640x480 with 1 Axes>"
      ]
     },
     "metadata": {},
     "output_type": "display_data"
    }
   ],
   "source": [
    "trips_df[\"duration\"].plot(kind='hist')\n",
    "plt.title(\"distribution_of_trip_duration\")\n",
    "plt.xlabel(\"duration minutes\")\n",
    "plt.show()"
   ]
  },
  {
   "cell_type": "code",
   "execution_count": 38,
   "id": "07b9eda7-9da6-40a6-9104-08695281fee5",
   "metadata": {},
   "outputs": [
    {
     "data": {
      "text/plain": [
       "pickup_time\n",
       "0     32.733173\n",
       "1     33.230588\n",
       "2     33.486284\n",
       "3     32.218137\n",
       "4     33.817043\n",
       "5     31.163772\n",
       "6     32.122396\n",
       "7     31.671053\n",
       "8     32.763682\n",
       "9     33.282116\n",
       "10    32.576271\n",
       "11    32.677003\n",
       "12    33.697297\n",
       "13    31.832134\n",
       "14    32.101877\n",
       "15    32.785714\n",
       "16    32.209809\n",
       "17    32.075980\n",
       "18    32.336927\n",
       "19    32.261905\n",
       "20    32.394799\n",
       "21    31.717391\n",
       "22    31.152120\n",
       "23    31.442159\n",
       "Name: duration, dtype: float64"
      ]
     },
     "execution_count": 38,
     "metadata": {},
     "output_type": "execute_result"
    }
   ],
   "source": [
    "average_trip_duration_by_hour=trips_df.groupby(trips_df[\"pickup_time\"].dt.hour)[\"duration\"].mean()\n",
    "average_trip_duration_by_hour"
   ]
  },
  {
   "cell_type": "code",
   "execution_count": 42,
   "id": "610faddd-ca66-4fe2-887b-7fcbbc169ac0",
   "metadata": {},
   "outputs": [
    {
     "data": {
      "image/png": "[encoded data removed]",
      "text/plain": [
       "<Figure size 640x480 with 1 Axes>"
      ]
     },
     "metadata": {},
     "output_type": "display_data"
    }
   ],
   "source": [
    "average_trip_duration_by_hour.plot(kind='bar',color='brown')\n",
    "plt.title(\"Average trip duration by hour\")\n",
    "plt.xlabel(\"pickup hour\")\n",
    "plt.ylabel(\"duration\")\n",
    "plt.show()"
   ]
  },
  {
   "cell_type": "code",
   "execution_count": null,
   "id": "78249e00-f0cb-4490-b12d-58288aa90a70",
   "metadata": {},
   "outputs": [],
   "source": [
    "trips_df[\"fare_amount\"].plot(kind='hist')"
   ]
  },
  {
   "cell_type": "code",
   "execution_count": null,
   "id": "71494183-043d-4585-bb2e-e53b10f8e1ee",
   "metadata": {},
   "outputs": [],
   "source": [
    "trips_df.groupby(\"pickup_time\")[\"fare_amount\"].sum()"
   ]
  },
  {
   "cell_type": "code",
   "execution_count": null,
   "id": "77f4c01c-ffa1-4924-9787-cc4fb4e5a304",
   "metadata": {},
   "outputs": [],
   "source": []
  }
 ],
 "metadata": {
  "kernelspec": {
   "display_name": "Python 3 (ipykernel)",
   "language": "python",
   "name": "python3"
  },
  "language_info": {
   "codemirror_mode": {
    "name": "ipython",
    "version": 3
   },
   "file_extension": ".py",
   "mimetype": "text/x-python",
   "name": "python",
   "nbconvert_exporter": "python",
   "pygments_lexer": "ipython3",
   "version": "3.13.3"
  }
 },
 "nbformat": 4,
 "nbformat_minor": 5
}
